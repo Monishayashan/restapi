{
 "cells": [
  {
   "cell_type": "code",
   "execution_count": 1,
   "metadata": {},
   "outputs": [],
   "source": [
    "def mask(): \n",
    "    import cv2\n",
    "    import numpy as np \n",
    "    net_mask = cv2.dnn.readNet(\"yolov3_mask_last.weights\", \"yolov3_mask.cfg\")\n",
    "    classes_mask = []\n",
    "    with open(\"coco -1.names\", \"r\") as f:\n",
    "        classes_mask = [line.strip() for line in f.readlines()]  \n",
    "        layer_names_mask = net_mask.getLayerNames()\n",
    "        output_layer_mask = [layer_names_mask[i[0] - 1] for i in net_mask.getUnconnectedOutLayers()]\n",
    "        while True:\n",
    "            re,img = video_capture.read()\n",
    "            img = cv2.resize(img, None, fx=0.4, fy=0.4)\n",
    "            height, width, channels = img.shape\n",
    "            blob = cv2.dnn.blobFromImage(img, 1 / 255.0, (416, 416),  swapRB=True, crop=False)\n",
    "            net_mask.setInput(blob)\n",
    "            outs = net_mask.forward(output_layer_mask)\n",
    "            class_ids_mask = []\n",
    "            confidences_mask = []\n",
    "            boxes_mask = []     \n",
    "            for out in outs:\n",
    "                for detection in out:\n",
    "                    scores_mask = detection[5:]\n",
    "                    class_id_mask = np.argmax(scores_mask)\n",
    "                    confidence_mask = scores_mask[class_id_mask]\n",
    "                    if confidence_mask > 0.5:\n",
    "                        center_x = int(detection[0] * width)\n",
    "                        center_y = int(detection[1] * height)\n",
    "                        w = int(detection[2] * width)\n",
    "                        h = int(detection[3] * height)\n",
    "                        x = int(center_x - w / 2)\n",
    "                        y = int(center_y - h / 2)\n",
    "                        boxes_mask.append([x, y, w, h])\n",
    "                        confidences_mask.append(float(confidence_mask))\n",
    "                        class_ids_mask.append(class_id_mask)                \n",
    "            indexes_mask = cv2.dnn.NMSBoxes(boxes_mask, confidences_mask, 0.5, 0.4)\n",
    "            font = cv2.FONT_HERSHEY_PLAIN\n",
    "            colors = np.random.uniform(0, 255, size=(len(classes_mask), 3))\n",
    "            for i in range(len(boxes_mask)):\n",
    "                if i in indexes_mask:\n",
    "                    x, y, w, h = boxes_mask[i]\n",
    "                    label_mask = str(classes_mask[class_ids_mask[i]])\n",
    "                    if(label_mask=='Mask weared partially'):\n",
    "                        label_mask='No mask'\n",
    " \n",
    "                    c=str(confidences_mask[i])\n",
    "                    color = colors[class_ids_mask[i]]\n",
    "                    cv2.rectangle(img, (x, y), (x + w, y + h), color, 2)\n",
    "                    cv2.putText(img, label_mask, (x, y -5),cv2.FONT_HERSHEY_SIMPLEX, 1, color, 3)\n",
    "            cv2.imshow(\"object detection\",cv2.resize(img, (800,600)))\n",
    "            if cv2.waitKey(500):\n",
    "                break\n",
    "\n"
   ]
  },
  {
   "cell_type": "code",
   "execution_count": 2,
   "metadata": {},
   "outputs": [
    {
     "name": "stdout",
     "output_type": "stream",
     "text": [
      "Requirement already satisfied: opencv-python in c:\\programdata\\anaconda3\\lib\\site-packages (4.5.2.54)\n",
      "Requirement already satisfied: numpy>=1.17.3 in c:\\programdata\\anaconda3\\lib\\site-packages (from opencv-python) (1.20.1)\n"
     ]
    }
   ],
   "source": [
    "!pip install opencv-python\n",
    "import cv2\n",
    "import numpy as np \n",
    "import math"
   ]
  },
  {
   "cell_type": "code",
   "execution_count": 3,
   "metadata": {},
   "outputs": [],
   "source": [
    "net = cv2.dnn.readNet(\"yolov3.weights\", \"yolov3.cfg\")"
   ]
  },
  {
   "cell_type": "code",
   "execution_count": 4,
   "metadata": {},
   "outputs": [],
   "source": [
    "classes = []"
   ]
  },
  {
   "cell_type": "code",
   "execution_count": 5,
   "metadata": {},
   "outputs": [],
   "source": [
    "with open(\"coco.names\", \"r\") as f:\n",
    "    classes = [line.strip() for line in f.readlines()]  \n",
    "layer_names = net.getLayerNames()\n",
    "output_layers = [layer_names[i[0] - 1] for i in net.getUnconnectedOutLayers()]\n"
   ]
  },
  {
   "cell_type": "code",
   "execution_count": 6,
   "metadata": {},
   "outputs": [],
   "source": [
    "class_ids = []\n",
    "confidences = []\n",
    "boxes = []"
   ]
  },
  {
   "cell_type": "code",
   "execution_count": 7,
   "metadata": {},
   "outputs": [],
   "source": [
    "video_capture = cv2.VideoCapture(0)\n",
    "def make_1080p():\n",
    "    video_capture.set(3,1920)\n",
    "    video_capture.set(4,1080)\n",
    "def make_720p():\n",
    "    video_capture.set(3,1280)\n",
    "    video_capture.set(4,720)\n",
    "def make_480p():\n",
    "    video_capture.set(3,640)\n",
    "    video_capture.set(4,480)\n",
    "def change_res(width,height):\n",
    "    video_capture.set(3,width)\n",
    "    video_capture.set(4,height)\n",
    "make_720p()\n",
    "change_res(1280,720)"
   ]
  },
  {
   "cell_type": "code",
   "execution_count": null,
   "metadata": {},
   "outputs": [],
   "source": [
    "while True:\n",
    "    re,img = video_capture.read()\n",
    "    img = cv2.resize(img, None, fx=0.4, fy=0.4)\n",
    "    height, width, channels = img.shape\n",
    "    blob = cv2.dnn.blobFromImage(img, 1 / 255.0, (416, 416),  swapRB=True, crop=False)\n",
    "    net.setInput(blob)\n",
    "    outs = net.forward(output_layers)\n",
    "    class_ids = []\n",
    "    confidences = []\n",
    "    boxes = []\n",
    "    for out in outs:\n",
    "        for detection in out:\n",
    "            scores = detection[5:]\n",
    "            class_id = np.argmax(scores)\n",
    "            confidence = scores[class_id]\n",
    "            if confidence > 0.5:\n",
    "                \n",
    "                center_x = int(detection[0] * width)\n",
    "                center_y = int(detection[1] * height)\n",
    "                w = int(detection[2] * width)\n",
    "                h = int(detection[3] * height)\n",
    "               \n",
    "                x = int(center_x - w / 2)\n",
    "                y = int(center_y - h / 2)\n",
    "                boxes.append([x, y, w, h])\n",
    "                confidences.append(float(confidence))\n",
    "                class_ids.append(class_id)\n",
    "             \n",
    "    \n",
    "    indexes = cv2.dnn.NMSBoxes(boxes, confidences, 0.5, 0.4)\n",
    "   \n",
    "    font = cv2.FONT_HERSHEY_PLAIN\n",
    "    colors = np.random.uniform(0, 255, size=(len(classes), 3))\n",
    "    for i in range(len(boxes)):\n",
    "        if i in indexes:\n",
    "            x, y, w, h = boxes[i]\n",
    "            label = str(classes[class_ids[i]])\n",
    "            if label=='person':\n",
    "                mask()\n",
    "            c=str(confidences[i])\n",
    "            color = colors[class_ids[i]]\n",
    "            cv2.rectangle(img, (x, y), (x + w, y + h), color, 2)\n",
    "                      \n",
    "            cv2.putText(img, label, (x, y -10),cv2.FONT_HERSHEY_SIMPLEX, 1, color, 3)\n",
    "        cv2.imshow(\"object detection\",cv2.resize(img, (800,600)))\n",
    "   \n",
    "    if cv2.waitKey(1) == ord('q'):\n",
    "        break\n",
    "video_capture.release()\n",
    "cv2.destroyAllWindows();"
   ]
  },
  {
   "cell_type": "code",
   "execution_count": null,
   "metadata": {},
   "outputs": [],
   "source": []
  },
  {
   "cell_type": "code",
   "execution_count": null,
   "metadata": {},
   "outputs": [],
   "source": []
  }
 ],
 "metadata": {
  "kernelspec": {
   "display_name": "Python 3",
   "language": "python",
   "name": "python3"
  },
  "language_info": {
   "codemirror_mode": {
    "name": "ipython",
    "version": 3
   },
   "file_extension": ".py",
   "mimetype": "text/x-python",
   "name": "python",
   "nbconvert_exporter": "python",
   "pygments_lexer": "ipython3",
   "version": "3.8.8"
  }
 },
 "nbformat": 4,
 "nbformat_minor": 4
}
